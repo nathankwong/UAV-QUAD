{
 "cells": [
  {
   "cell_type": "markdown",
   "metadata": {},
   "source": [
    "## Problem 0: RRT Planner Implementation\n",
    "Implement the following and ensure the unit tests pass (be sure to read the headers for each function).\n",
    "* `chap12/planner_utilities.py`:\n",
    "  * `plan_path(...)`\n",
    "  * `find_closest_configuration(...)`\n",
    "  * `generate_random_configuration(...)`\n",
    "  * `find_shortest_path(...)`\n",
    "  * `smooth_path(...)`\n",
    "* `chap12/rrt_straight_line.py`:\n",
    "  * `create_rrt_plan(...)`  \n",
    "\n",
    "### Hints on implementation\n",
    "* `np.random.rand()` can be used to calculate a random number between 0 and 1\n",
    "* Take a good look at `MsgWaypoints`\n",
    "  * See the documentation for `Waypoint` in `msg_waypoints.py`\n",
    "  * `tree.connect_to_goal.item(i)` make sure to set and use the `connect_to_goal` property of `MsgWaypoints`. This is used to indicate that this waypoint could be connected to the goal, not that it is the goal waypoint.\n",
    "    * Note that you do not ever need to add the goal waypoint to the tree structure, you just set \n",
    "  * Waypoints can be added by either adding a `Waypoint` through `add_waypoint(...)` or through specifying the values of the waypoint through `add(...)`. Waypoint data can be accessed individually or by calling the `get_waypoint(...)` function to extract all of the data for the waypoint\n",
    "  * `tree.parent.item(i)` will return the parent of the waypoint at index `i`. Make sure to set the parent value appropriately.\n",
    "\n",
    "\n",
    "### Note on the unit tests\n",
    "There will only be unit tests for `plan_path(...)`, `find_closest_configuration(...)`, `find_shortest_path(...)`, and `smooth_path(...)`.\n",
    "\n",
    "There will **be no** unit tests for `generate_random_configuration(...)` and `create_rrt_plan(...)`"
   ]
  },
  {
   "cell_type": "code",
   "execution_count": null,
   "metadata": {},
   "outputs": [],
   "source": [
    "import numpy as np\n",
    "from mav_sim.chap3.mav_dynamics import DynamicState\n",
    "from mav_sim.chap12.run_sim import run_sim\n",
    "from mav_sim.message_types.msg_sim_params import MsgSimParams\n",
    "from mav_sim.message_types.msg_world_map import MsgWorldMap\n",
    "from mav_sim.tools.types import NP_MAT\n",
    "\n",
    "from mav_sim.chap12.world_viewer import WorldViewer\n",
    "from mav_sim.chap3.data_viewer import DataViewer\n",
    "from mav_sim.tools.display_figures import display_data_view, display_mav_view\n",
    "\n",
    "# The viewers need to be initialized once due to restart issues with qtgraph\n",
    "if 'world_view' not in globals():\n",
    "    print(\"Initializing waypoint viewer\")\n",
    "    global world_view\n",
    "    world_view = WorldViewer()\n",
    "if 'data_view' not in globals():\n",
    "    print(\"Initializing data_view\")\n",
    "    global data_view\n",
    "    data_view = DataViewer()\n",
    "\n",
    "# Initialize the simulation parameters\n",
    "sim_params_default = MsgSimParams(end_time=200., video_name=\"cha12.avi\") # Sim ending in 10 seconds\n",
    "state = DynamicState()\n",
    "\n",
    "# Function for running simulation and displaying results\n",
    "def run_sim_and_display(end_pose: NP_MAT, sim_params: MsgSimParams = sim_params_default):\n",
    "    global world_view\n",
    "    global data_view\n",
    "    data_view.reset(sim_params.start_time)\n",
    "    (world_view, data_view) = run_sim(sim=sim_params, end_pose=end_pose, init_state=state, world_view=world_view, data_view=data_view) \n",
    "    display_data_view(data_view)\n",
    "    display_mav_view(world_view)"
   ]
  },
  {
   "cell_type": "code",
   "execution_count": null,
   "metadata": {},
   "outputs": [],
   "source": [
    "# Final point definition\n",
    "world_map = MsgWorldMap()\n",
    "end_pose = np.array([[world_map.city_width], [world_map.city_width],\n",
    "                                    [-100]])\n",
    "\n",
    "# Run the simulation\n",
    "run_sim_and_display(end_pose=end_pose)"
   ]
  },
  {
   "cell_type": "markdown",
   "metadata": {},
   "source": [
    "## Problem 1: Top Left Corner\n",
    "Rerun the simulation with the following changes:\n",
    "* Have the end pose be the top left corner (instead of top-right as defined above).\n",
    "* Adjust the sim time so that the UAV makes it only part of the way to the end pose, but does have sufficient time to be on the path."
   ]
  },
  {
   "cell_type": "code",
   "execution_count": null,
   "metadata": {},
   "outputs": [],
   "source": [
    "# Code goes here"
   ]
  },
  {
   "attachments": {},
   "cell_type": "markdown",
   "metadata": {},
   "source": [
    "## Static analysis\n",
    "Run the static code analysis (you must have zero static code analysis errors to get credit). You may not modify the static code analysis configuration files.\n",
    "\n",
    "### ISORT\n",
    "Run Isort:\n",
    "```\n",
    "python -m isort mav_sim book_assignments\n",
    "```\n",
    "\n",
    "Terminal output (should be nothing):\n",
    "\n",
    "### MyPy\n",
    "Run MyPy\n",
    "```\n",
    "python -m mypy mav_sim/chap2/ mav_sim/chap3/ mav_sim/chap4/ mav_sim/chap5/ mav_sim/chap6/ mav_sim/chap10/ mav_sim/chap11/ mav_sim/chap12/ book_assignments\n",
    "```\n",
    "\n",
    "Terminal output (should indicate no error):\n",
    "```\n",
    "(put results here)\n",
    "```\n",
    "\n",
    "### Pylint\n",
    "Run Pylint\n",
    "```\n",
    "python -m pylint --jobs 0 --rcfile .pylintrc mav_sim/chap2/ mav_sim/chap3/ mav_sim/chap4/ mav_sim/chap5/ mav_sim/chap6/ mav_sim/chap10/ mav_sim/chap11/ mav_sim/chap12/ book_assignments/\n",
    "```\n",
    "\n",
    "Terminal output (should indicate `10/10`)\n",
    "```\n",
    "(put results here)\n",
    "```"
   ]
  },
  {
   "cell_type": "markdown",
   "metadata": {},
   "source": [
    "## Simple code checking\n",
    "The following code does not need to change. It should just be used as a sanity check so that you know the code is implemented properly. The output should not have any lines reading `Failed test!` If it does, then write an explanation of why those failed tests are okay. For example, you may describe that the function is testing a fringe case where the value changes at $\\pi/2$. Your function behaves well up to the boundary, but perhaps struggles with some points that are numerically on / close to the boundary.\n",
    "\n",
    "### Reasoning for results not being perfect on the unit tests\n",
    "(For each unit test that failed, write a brief explanation of why it is okay that it failed)"
   ]
  },
  {
   "cell_type": "code",
   "execution_count": null,
   "metadata": {},
   "outputs": [],
   "source": [
    "from mav_sim.unit_tests.ch12_straight_line_rrt_test import run_tests\n",
    "run_tests()\n",
    "# If you want to run a specific test\n",
    "# run_tests(<the_test_number>)"
   ]
  }
 ],
 "metadata": {
  "kernelspec": {
   "display_name": "mav_venv3_10_3",
   "language": "python",
   "name": "python3"
  },
  "language_info": {
   "codemirror_mode": {
    "name": "ipython",
    "version": 3
   },
   "file_extension": ".py",
   "mimetype": "text/x-python",
   "name": "python",
   "nbconvert_exporter": "python",
   "pygments_lexer": "ipython3",
   "version": "3.10.1"
  },
  "orig_nbformat": 4,
  "vscode": {
   "interpreter": {
    "hash": "37586684532cdab031a4762cde837f66265650b466529d85f59f02594573c073"
   }
  }
 },
 "nbformat": 4,
 "nbformat_minor": 2
}
